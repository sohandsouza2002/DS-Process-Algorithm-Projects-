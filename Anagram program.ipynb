{
 "cells": [
  {
   "cell_type": "code",
   "execution_count": 1,
   "id": "f09db4c3",
   "metadata": {},
   "outputs": [
    {
     "name": "stdout",
     "output_type": "stream",
     "text": [
      "Enter first word  : cat\n",
      "Enter second word : tac\n",
      "------------------\n",
      "given words are anagram\n"
     ]
    }
   ],
   "source": [
    "a=input(\"Enter first word  : \")\n",
    "b=input(\"Enter second word : \")\n",
    "c = a.lower()\n",
    "d = b.lower()\n",
    "sorted_a = sorted(c)\n",
    "sorted_b = sorted(d)\n",
    "print(\"------------------\")\n",
    "if (sorted_a == sorted_b):\n",
    "    print('given words are anagram')\n",
    "else: \n",
    "    print('given words are not anagram')\n"
   ]
  },
  {
   "cell_type": "code",
   "execution_count": null,
   "id": "48ae8697",
   "metadata": {},
   "outputs": [],
   "source": []
  }
 ],
 "metadata": {
  "kernelspec": {
   "display_name": "Python 3 (ipykernel)",
   "language": "python",
   "name": "python3"
  },
  "language_info": {
   "codemirror_mode": {
    "name": "ipython",
    "version": 3
   },
   "file_extension": ".py",
   "mimetype": "text/x-python",
   "name": "python",
   "nbconvert_exporter": "python",
   "pygments_lexer": "ipython3",
   "version": "3.10.9"
  }
 },
 "nbformat": 4,
 "nbformat_minor": 5
}
