{
 "cells": [
  {
   "cell_type": "code",
   "execution_count": 1,
   "id": "87049d0c",
   "metadata": {},
   "outputs": [
    {
     "name": "stdout",
     "output_type": "stream",
     "text": [
      "Enter any word\n",
      "sohan\n",
      "o\n",
      "a\n",
      "the word contains a vowel : 2\n"
     ]
    }
   ],
   "source": [
    "print(\"Enter any word\")\n",
    "x=str(input())\n",
    "v=['a','e','i','o','u','A','E','I','O','U']\n",
    "count = 0\n",
    "for i in x:\n",
    "    if i in v:\n",
    "        count = count + 1\n",
    "        print(i)\n",
    "print(\"the word contains a vowel :\",count)\n"
   ]
  },
  {
   "cell_type": "code",
   "execution_count": null,
   "id": "f97c1af2",
   "metadata": {},
   "outputs": [],
   "source": []
  }
 ],
 "metadata": {
  "kernelspec": {
   "display_name": "Python 3 (ipykernel)",
   "language": "python",
   "name": "python3"
  },
  "language_info": {
   "codemirror_mode": {
    "name": "ipython",
    "version": 3
   },
   "file_extension": ".py",
   "mimetype": "text/x-python",
   "name": "python",
   "nbconvert_exporter": "python",
   "pygments_lexer": "ipython3",
   "version": "3.10.9"
  }
 },
 "nbformat": 4,
 "nbformat_minor": 5
}
